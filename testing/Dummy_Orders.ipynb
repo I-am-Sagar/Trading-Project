{
 "cells": [
  {
   "cell_type": "markdown",
   "id": "094e9755",
   "metadata": {},
   "source": [
    "Important values to keep track of when a order is placed: \n",
    "\n",
    "Custom created:\n",
    "- Order id: A unique ID to keep track of orders\n",
    "- Timestamp: Time at which the order is placed\n",
    "\n",
    "Order Specifications: \n",
    "- Transaction Type: Whether the order is BUY OR SELL\n",
    "- Variety: Whether the order is normal order, stoploss order, order after market, etc. \n",
    "- Order Type: Market order OR Limit order. \n",
    "- Product Type: Delivery, Carry Forward, Margin, Intraday, etc. \n",
    "- Duration: Regular Order OR Immediate or Cancel. \n",
    "- Exchange: BSE, NSE, NFO, etc. \n",
    "\n",
    "Order Parameters: \n",
    "- Instrument Traded: Trading symbol of the instrument\n",
    "- Symbol Token: Token value of the symbol\n",
    "- Quantity: No of units purchased\n",
    "- Price: BUY OR SELL value per unit. \n",
    "- Amount: Value of the total order. "
   ]
  },
  {
   "cell_type": "code",
   "execution_count": 15,
   "id": "bc64c18d",
   "metadata": {},
   "outputs": [],
   "source": [
    "import pandas as pd\n",
    "import numpy as np\n",
    "import json\n",
    "import time\n",
    "from datetime import datetime\n",
    "import random"
   ]
  },
  {
   "cell_type": "code",
   "execution_count": 20,
   "id": "5c78632a",
   "metadata": {},
   "outputs": [],
   "source": [
    "# Some values required to form the 'order' object. \n",
    "\n",
    "with open('/Users/iamsagar/Desktop/Trading Project/data/instruments/eq_symbol_token.json', 'r') as fp:\n",
    "    symbol_token_dict = json.load(fp)\n",
    "    \n",
    "symbol = 'HDFC-EQ'\n",
    "token = symbol_token_dict[symbol]\n",
    "order_id = hex(hash(str(datetime.now()) + symbol))\n",
    "quantity = random.randint(1,9)\n",
    "price = 1329   # This will be obtained using the market feed api"
   ]
  },
  {
   "cell_type": "code",
   "execution_count": 39,
   "id": "fa00a9e6",
   "metadata": {},
   "outputs": [
    {
     "name": "stdout",
     "output_type": "stream",
     "text": [
      "{'orderid': '0x26dfce56f21156b1', 'timestamp': '2022-06-14 05:58:07.831045', 'transactiontype': 'BUY', 'variety': 'AMO', 'ordertype': 'MARKET', 'producttype': 'MARGIN', 'duration': 'IOC', 'exchange': 'NSE', 'tradingsymbol': 'HDFC-EQ', 'symboltoken': 1330, 'quantity': 4, 'price': 1329, 'amount': 5316}\n"
     ]
    }
   ],
   "source": [
    "# Let's create a dummy order for HDFC-EQ\n",
    "\n",
    "order = {\n",
    "    \"orderid\":order_id, \n",
    "    \"timestamp\":str(datetime.now()),\n",
    "    \"transactiontype\":random.choice([\"BUY\", \"SELL\"]),\n",
    "    \"variety\":random.choice([\"NORMAL\", \"AMO\"]),\n",
    "    \"ordertype\":random.choice([\"MARKET\", \"LIMIT\"]),\n",
    "    \"producttype\":random.choice([\"DELIVERY\", \"MARGIN\", \"INTRADAY\"]),\n",
    "    \"duration\":random.choice([\"DAY\", \"IOC\"]),\n",
    "    \"exchange\":random.choice([\"BSE\", \"NSE\"]),\n",
    "    \"tradingsymbol\":symbol,\n",
    "    \"symboltoken\":token,\n",
    "    \"quantity\": quantity,\n",
    "    \"price\": price,\n",
    "    \"amount\": quantity*price\n",
    "}\n",
    "\n",
    "print(order)"
   ]
  },
  {
   "cell_type": "code",
   "execution_count": 44,
   "id": "207f17d1",
   "metadata": {},
   "outputs": [],
   "source": [
    "def dummy_order(order):\n",
    "    df = pd.read_csv('/Users/iamsagar/Desktop/Trading Project/data/orders/orders.csv')\n",
    "    order_row = pd.json_normalize(order)\n",
    "    df = pd.concat([df, order_row])\n",
    "    df.to_csv('/Users/iamsagar/Desktop/Trading Project/data/orders/orders.csv', index=False)"
   ]
  },
  {
   "cell_type": "code",
   "execution_count": 45,
   "id": "e94fee84",
   "metadata": {},
   "outputs": [
    {
     "data": {
      "text/html": [
       "<div>\n",
       "<style scoped>\n",
       "    .dataframe tbody tr th:only-of-type {\n",
       "        vertical-align: middle;\n",
       "    }\n",
       "\n",
       "    .dataframe tbody tr th {\n",
       "        vertical-align: top;\n",
       "    }\n",
       "\n",
       "    .dataframe thead th {\n",
       "        text-align: right;\n",
       "    }\n",
       "</style>\n",
       "<table border=\"1\" class=\"dataframe\">\n",
       "  <thead>\n",
       "    <tr style=\"text-align: right;\">\n",
       "      <th></th>\n",
       "      <th>orderid</th>\n",
       "      <th>timestamp</th>\n",
       "      <th>transactiontype</th>\n",
       "      <th>variety</th>\n",
       "      <th>ordertype</th>\n",
       "      <th>producttype</th>\n",
       "      <th>duration</th>\n",
       "      <th>exchange</th>\n",
       "      <th>tradingsymbol</th>\n",
       "      <th>symboltoken</th>\n",
       "      <th>quantity</th>\n",
       "      <th>price</th>\n",
       "      <th>amount</th>\n",
       "    </tr>\n",
       "  </thead>\n",
       "  <tbody>\n",
       "  </tbody>\n",
       "</table>\n",
       "</div>"
      ],
      "text/plain": [
       "Empty DataFrame\n",
       "Columns: [orderid, timestamp, transactiontype, variety, ordertype, producttype, duration, exchange, tradingsymbol, symboltoken, quantity, price, amount]\n",
       "Index: []"
      ]
     },
     "metadata": {},
     "output_type": "display_data"
    }
   ],
   "source": [
    "order_df = pd.read_csv('/Users/iamsagar/Desktop/Trading Project/data/orders/orders.csv')\n",
    "display(order_df)"
   ]
  },
  {
   "cell_type": "code",
   "execution_count": 46,
   "id": "2b5a433f",
   "metadata": {},
   "outputs": [],
   "source": [
    "dummy_order(order)"
   ]
  },
  {
   "cell_type": "code",
   "execution_count": 48,
   "id": "2df36189",
   "metadata": {},
   "outputs": [
    {
     "data": {
      "text/html": [
       "<div>\n",
       "<style scoped>\n",
       "    .dataframe tbody tr th:only-of-type {\n",
       "        vertical-align: middle;\n",
       "    }\n",
       "\n",
       "    .dataframe tbody tr th {\n",
       "        vertical-align: top;\n",
       "    }\n",
       "\n",
       "    .dataframe thead th {\n",
       "        text-align: right;\n",
       "    }\n",
       "</style>\n",
       "<table border=\"1\" class=\"dataframe\">\n",
       "  <thead>\n",
       "    <tr style=\"text-align: right;\">\n",
       "      <th></th>\n",
       "      <th>orderid</th>\n",
       "      <th>timestamp</th>\n",
       "      <th>transactiontype</th>\n",
       "      <th>variety</th>\n",
       "      <th>ordertype</th>\n",
       "      <th>producttype</th>\n",
       "      <th>duration</th>\n",
       "      <th>exchange</th>\n",
       "      <th>tradingsymbol</th>\n",
       "      <th>symboltoken</th>\n",
       "      <th>quantity</th>\n",
       "      <th>price</th>\n",
       "      <th>amount</th>\n",
       "    </tr>\n",
       "  </thead>\n",
       "  <tbody>\n",
       "    <tr>\n",
       "      <th>0</th>\n",
       "      <td>0x26dfce56f21156b1</td>\n",
       "      <td>2022-06-14 05:58:07.831045</td>\n",
       "      <td>BUY</td>\n",
       "      <td>AMO</td>\n",
       "      <td>MARKET</td>\n",
       "      <td>MARGIN</td>\n",
       "      <td>IOC</td>\n",
       "      <td>NSE</td>\n",
       "      <td>HDFC-EQ</td>\n",
       "      <td>1330</td>\n",
       "      <td>4</td>\n",
       "      <td>1329</td>\n",
       "      <td>5316</td>\n",
       "    </tr>\n",
       "  </tbody>\n",
       "</table>\n",
       "</div>"
      ],
      "text/plain": [
       "              orderid                   timestamp transactiontype variety  \\\n",
       "0  0x26dfce56f21156b1  2022-06-14 05:58:07.831045             BUY     AMO   \n",
       "\n",
       "  ordertype producttype duration exchange tradingsymbol  symboltoken  \\\n",
       "0    MARKET      MARGIN      IOC      NSE       HDFC-EQ         1330   \n",
       "\n",
       "   quantity  price  amount  \n",
       "0         4   1329    5316  "
      ]
     },
     "metadata": {},
     "output_type": "display_data"
    }
   ],
   "source": [
    "order_df = pd.read_csv('/Users/iamsagar/Desktop/Trading Project/data/orders/orders.csv')\n",
    "display(order_df)"
   ]
  },
  {
   "cell_type": "code",
   "execution_count": null,
   "id": "5a45f091",
   "metadata": {},
   "outputs": [],
   "source": []
  }
 ],
 "metadata": {
  "kernelspec": {
   "display_name": "Python 3 (ipykernel)",
   "language": "python",
   "name": "python3"
  },
  "language_info": {
   "codemirror_mode": {
    "name": "ipython",
    "version": 3
   },
   "file_extension": ".py",
   "mimetype": "text/x-python",
   "name": "python",
   "nbconvert_exporter": "python",
   "pygments_lexer": "ipython3",
   "version": "3.8.9"
  }
 },
 "nbformat": 4,
 "nbformat_minor": 5
}
