{
 "cells": [
  {
   "cell_type": "code",
   "execution_count": 1,
   "id": "6bb17270",
   "metadata": {},
   "outputs": [],
   "source": [
    "from nsetools import Nse"
   ]
  },
  {
   "cell_type": "code",
   "execution_count": 2,
   "id": "20c537b4",
   "metadata": {},
   "outputs": [
    {
     "name": "stdout",
     "output_type": "stream",
     "text": [
      "Driver Class for National Stock Exchange (NSE)\n"
     ]
    }
   ],
   "source": [
    "nse = Nse()\n",
    "print(nse)"
   ]
  },
  {
   "cell_type": "code",
   "execution_count": 3,
   "id": "861f3c0c",
   "metadata": {},
   "outputs": [
    {
     "name": "stdout",
     "output_type": "stream",
     "text": [
      "{'pricebandupper': 4764.55, 'symbol': 'LTI', 'applicableMargin': 19.67, 'bcEndDate': None, 'totalSellQuantity': None, 'adhocMargin': None, 'companyName': 'Larsen & Toubro Infotech Limited', 'marketType': 'N', 'exDate': '25-OCT-21', 'bcStartDate': None, 'css_status_desc': 'Listed', 'dayHigh': 4217.05, 'basePrice': 4331.45, 'securityVar': 16.17, 'pricebandlower': 3898.35, 'sellQuantity5': None, 'sellQuantity4': None, 'sellQuantity3': None, 'cm_adj_high_dt': '04-JAN-22', 'sellQuantity2': None, 'dayLow': 4074.1, 'sellQuantity1': None, 'quantityTraded': 430669.0, 'pChange': '-5.23', 'totalTradedValue': 17771.04, 'deliveryToTradedQuantity': 41.07, 'totalBuyQuantity': 22.0, 'averagePrice': 4126.38, 'indexVar': None, 'cm_ffm': 18624.1, 'purpose': 'INTERIM DIVIDEND - RS 15 PER SHARE', 'buyPrice2': None, 'secDate': '13-Jun-2022 00:00:00', 'buyPrice1': 4086.9, 'high52': 7588.8, 'previousClose': 4331.45, 'ndEndDate': None, 'low52': 3733.3, 'buyPrice4': None, 'buyPrice3': None, 'recordDate': '26-OCT-21', 'deliveryQuantity': 176875.0, 'buyPrice5': None, 'priceBand': 'No Band', 'extremeLossMargin': 3.5, 'cm_adj_low_dt': '26-MAY-22', 'varMargin': 16.17, 'sellPrice1': None, 'sellPrice2': None, 'totalTradedVolume': 430669.0, 'sellPrice3': None, 'sellPrice4': None, 'sellPrice5': None, 'change': '-226.45', 'surv_indicator': None, 'ndStartDate': None, 'buyQuantity4': None, 'isExDateFlag': False, 'buyQuantity3': None, 'buyQuantity2': None, 'buyQuantity1': 22.0, 'series': 'EQ', 'faceValue': 1.0, 'buyQuantity5': None, 'closePrice': 4086.9, 'open': 4138.85, 'isinCode': 'INE214T01019', 'lastPrice': 4105.0}\n"
     ]
    }
   ],
   "source": [
    "# Getting a stock quote\n",
    "\n",
    "q = nse.get_quote('lti')\n",
    "print(q)"
   ]
  },
  {
   "cell_type": "code",
   "execution_count": 5,
   "id": "dc5dfd53",
   "metadata": {},
   "outputs": [
    {
     "name": "stdout",
     "output_type": "stream",
     "text": [
      "['NIFTY 50 Pre Open', 'NIFTY 50', 'NIFTY NEXT 50', 'NIFTY100 LIQ 15', 'NIFTY BANK', 'INDIA VIX', 'NIFTY 100', 'NIFTY 500', 'NIFTY MIDCAP 100', 'NIFTY MIDCAP 50', 'NIFTY INFRA', 'NIFTY REALTY', 'NIFTY ENERGY', 'NIFTY FMCG', 'NIFTY MNC', 'NIFTY PHARMA', 'NIFTY PSE', 'NIFTY PSU BANK', 'NIFTY SERV SECTOR', 'NIFTY IT', 'NIFTY SMLCAP 100', 'NIFTY 200', 'NIFTY AUTO', 'NIFTY MEDIA', 'NIFTY METAL', 'NIFTY DIV OPPS 50', 'NIFTY COMMODITIES', 'NIFTY CONSUMPTION', 'NIFTY CPSE', 'NIFTY FIN SERVICE', 'NIFTY GROWSECT 15', 'NIFTY50 VALUE 20', 'NIFTY50 TR 2X LEV', 'NIFTY50 PR 2X LEV', 'NIFTY50 TR 1X INV', 'NIFTY50 PR 1X INV', 'NIFTY ALPHA 50', 'NIFTY50 EQL WGT', 'NIFTY100 EQL WGT', 'NIFTY100 LOWVOL30', 'NIFTY MID LIQ 15', 'NIFTY PVT BANK', 'NIFTY100 QUALTY30', 'NIFTY GS 8 13YR', 'NIFTY GS 10YR', 'NIFTY GS 10YR CLN', 'NIFTY GS 4 8YR', 'NIFTY GS 11 15YR', 'NIFTY GS 15YRPLUS', 'NIFTY GS COMPSITE', 'NIFTY MIDCAP 150', 'NIFTY SMLCAP 50', 'NIFTY SMLCAP 250', 'NIFTY MIDSML 400', 'NIFTY200 QUALTY30']\n",
      "{'name': 'NIFTY 50', 'lastPrice': 15774.4, 'change': '-427.40', 'pChange': '-2.64', 'imgFileName': 'NIFTY_50_open.png'}\n"
     ]
    }
   ],
   "source": [
    "# Get the value of index\n",
    "\n",
    "print(nse.get_index_list())\n",
    "q = nse.get_index_quote('NIFTY 50')\n",
    "print(q)"
   ]
  },
  {
   "cell_type": "code",
   "execution_count": 9,
   "id": "8bc7e326",
   "metadata": {},
   "outputs": [
    {
     "name": "stdout",
     "output_type": "stream",
     "text": [
      "1845\n"
     ]
    }
   ],
   "source": [
    "# List of stocks which we can monitor using nse tools\n",
    "\n",
    "all_stock_codes = nse.get_stock_codes()\n",
    "print(len(all_stock_codes))"
   ]
  },
  {
   "cell_type": "code",
   "execution_count": 12,
   "id": "68e59ec4",
   "metadata": {},
   "outputs": [
    {
     "name": "stdout",
     "output_type": "stream",
     "text": [
      "[{'symbol': 'NESTLEIND', 'series': 'EQ', 'openPrice': 16690.0, 'highPrice': 16969.8, 'lowPrice': 16540.0, 'ltp': 16856.5, 'previousPrice': 16774.9, 'netPrice': 0.49, 'tradedQuantity': 118464.0, 'turnoverInLakhs': 19913.37, 'lastCorpAnnouncementDate': '21-Apr-2022', 'lastCorpAnnouncement': 'Interim Dividend - Rs 25 Per Sh/Dividend - Rs 65 Per Share'}, {'symbol': 'BAJAJ-AUTO', 'series': 'EQ', 'openPrice': 3825.0, 'highPrice': 3895.05, 'lowPrice': 3794.45, 'ltp': 3884.0, 'previousPrice': 3881.0, 'netPrice': 0.08, 'tradedQuantity': 519745.0, 'turnoverInLakhs': 20021.62, 'lastCorpAnnouncementDate': '30-Jun-2022', 'lastCorpAnnouncement': 'Dividend - Rs 140 Per Share'}]\n"
     ]
    }
   ],
   "source": [
    "# Top gainers\n",
    "\n",
    "top_gainers = nse.get_top_gainers()\n",
    "print(top_gainers)"
   ]
  },
  {
   "cell_type": "code",
   "execution_count": 13,
   "id": "749ec1ef",
   "metadata": {},
   "outputs": [
    {
     "name": "stdout",
     "output_type": "stream",
     "text": [
      "[{'symbol': 'BAJAJFINSV', 'series': 'EQ', 'openPrice': 12000.0, 'highPrice': 12000.0, 'lowPrice': 11350.0, 'ltp': 11428.0, 'previousPrice': 12253.5, 'netPrice': '-6.74', 'tradedQuantity': 487732.0, 'turnoverInLakhs': 56374.11, 'lastCorpAnnouncementDate': '30-Jun-2022', 'lastCorpAnnouncement': 'Dividend - Rs 4 Per Share'}, {'symbol': 'BAJFINANCE', 'series': 'EQ', 'openPrice': 5525.05, 'highPrice': 5554.0, 'lowPrice': 5325.0, 'ltp': 5372.0, 'previousPrice': 5667.5, 'netPrice': '-5.21', 'tradedQuantity': 1932785.0, 'turnoverInLakhs': 104215.96, 'lastCorpAnnouncementDate': '30-Jun-2022', 'lastCorpAnnouncement': 'Dividend - Rs 20 Per Share'}, {'symbol': 'TATAMOTORS', 'series': 'EQ', 'openPrice': 414.9, 'highPrice': 418.15, 'lowPrice': 405.6, 'ltp': 406.5, 'previousPrice': 428.05, 'netPrice': '-5.03', 'tradedQuantity': 17442641.0, 'turnoverInLakhs': 71518.32, 'lastCorpAnnouncementDate': '18-Jul-2016', 'lastCorpAnnouncement': 'Dividend - Re 0.20/- Per Share'}, {'symbol': 'INDUSINDBK', 'series': 'EQ', 'openPrice': 895.0, 'highPrice': 900.35, 'lowPrice': 860.1, 'ltp': 867.7, 'previousPrice': 913.2, 'netPrice': '-4.98', 'tradedQuantity': 3353078.0, 'turnoverInLakhs': 29199.61, 'lastCorpAnnouncementDate': '17-Aug-2021', 'lastCorpAnnouncement': 'Dividend - Rs 5 Per Share'}, {'symbol': 'HINDALCO', 'series': 'EQ', 'openPrice': 377.8, 'highPrice': 377.8, 'lowPrice': 360.5, 'ltp': 367.0, 'previousPrice': 385.75, 'netPrice': '-4.86', 'tradedQuantity': 12269608.0, 'turnoverInLakhs': 45015.96, 'lastCorpAnnouncementDate': '12-Aug-2021', 'lastCorpAnnouncement': 'Annual General Meeting/Dividend - Rs 3 Per Share'}, {'symbol': 'TECHM', 'series': 'EQ', 'openPrice': 1081.2, 'highPrice': 1084.6, 'lowPrice': 1050.0, 'ltp': 1056.0, 'previousPrice': 1109.85, 'netPrice': '-4.85', 'tradedQuantity': 2012004.0, 'turnoverInLakhs': 21414.56, 'lastCorpAnnouncementDate': '21-Jul-2022', 'lastCorpAnnouncement': 'Annual General Meeting/Special Dividend - Rs 15 Per Share/Dividend - Rs 15 Per Share'}, {'symbol': 'ICICIBANK', 'series': 'EQ', 'openPrice': 702.25, 'highPrice': 702.3, 'lowPrice': 682.1, 'ltp': 688.0, 'previousPrice': 720.0, 'netPrice': '-4.44', 'tradedQuantity': 16622521.0, 'turnoverInLakhs': 114412.81, 'lastCorpAnnouncementDate': '29-Jul-2021', 'lastCorpAnnouncement': 'Dividend - Rs 2 Per Share'}, {'symbol': 'ADANIPORTS', 'series': 'EQ', 'openPrice': 711.0, 'highPrice': 714.7, 'lowPrice': 688.8, 'ltp': 697.0, 'previousPrice': 726.4, 'netPrice': '-4.05', 'tradedQuantity': 4535069.0, 'turnoverInLakhs': 31737.77, 'lastCorpAnnouncementDate': '24-Jun-2021', 'lastCorpAnnouncement': 'Dividend - Rs 5 Per Sh'}, {'symbol': 'TCS', 'series': 'EQ', 'openPrice': 3290.0, 'highPrice': 3293.0, 'lowPrice': 3192.45, 'ltp': 3224.0, 'previousPrice': 3359.9, 'netPrice': '-4.04', 'tradedQuantity': 3030921.0, 'turnoverInLakhs': 97977.86, 'lastCorpAnnouncementDate': '25-May-2022', 'lastCorpAnnouncement': 'Dividend - Rs 22 Per Share'}, {'symbol': 'BPCL', 'series': 'EQ', 'openPrice': 327.9, 'highPrice': 327.9, 'lowPrice': 317.3, 'ltp': 318.5, 'previousPrice': 331.0, 'netPrice': '-3.78', 'tradedQuantity': 3751840.0, 'turnoverInLakhs': 12040.03, 'lastCorpAnnouncementDate': '10-Feb-2022', 'lastCorpAnnouncement': 'Interim Dividend - Rs 5 Per Share'}]\n"
     ]
    }
   ],
   "source": [
    "# Top losers\n",
    "\n",
    "top_losers = nse.get_top_losers()\n",
    "print(top_losers)"
   ]
  },
  {
   "cell_type": "code",
   "execution_count": null,
   "id": "533c74d9",
   "metadata": {},
   "outputs": [],
   "source": []
  }
 ],
 "metadata": {
  "kernelspec": {
   "display_name": "Python 3 (ipykernel)",
   "language": "python",
   "name": "python3"
  },
  "language_info": {
   "codemirror_mode": {
    "name": "ipython",
    "version": 3
   },
   "file_extension": ".py",
   "mimetype": "text/x-python",
   "name": "python",
   "nbconvert_exporter": "python",
   "pygments_lexer": "ipython3",
   "version": "3.8.9"
  }
 },
 "nbformat": 4,
 "nbformat_minor": 5
}
