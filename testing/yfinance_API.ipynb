{
 "cells": [
  {
   "cell_type": "code",
   "execution_count": 1,
   "id": "fbdc08df",
   "metadata": {},
   "outputs": [
    {
     "data": {
      "text/html": [
       "        <script type=\"text/javascript\">\n",
       "        window.PlotlyConfig = {MathJaxConfig: 'local'};\n",
       "        if (window.MathJax && window.MathJax.Hub && window.MathJax.Hub.Config) {window.MathJax.Hub.Config({SVG: {font: \"STIX-Web\"}});}\n",
       "        if (typeof require !== 'undefined') {\n",
       "        require.undef(\"plotly\");\n",
       "        requirejs.config({\n",
       "            paths: {\n",
       "                'plotly': ['https://cdn.plot.ly/plotly-2.12.1.min']\n",
       "            }\n",
       "        });\n",
       "        require(['plotly'], function(Plotly) {\n",
       "            window._Plotly = Plotly;\n",
       "        });\n",
       "        }\n",
       "        </script>\n",
       "        "
      ]
     },
     "metadata": {},
     "output_type": "display_data"
    },
    {
     "data": {
      "text/html": [
       "        <script type=\"text/javascript\">\n",
       "        window.PlotlyConfig = {MathJaxConfig: 'local'};\n",
       "        if (window.MathJax && window.MathJax.Hub && window.MathJax.Hub.Config) {window.MathJax.Hub.Config({SVG: {font: \"STIX-Web\"}});}\n",
       "        if (typeof require !== 'undefined') {\n",
       "        require.undef(\"plotly\");\n",
       "        requirejs.config({\n",
       "            paths: {\n",
       "                'plotly': ['https://cdn.plot.ly/plotly-2.12.1.min']\n",
       "            }\n",
       "        });\n",
       "        require(['plotly'], function(Plotly) {\n",
       "            window._Plotly = Plotly;\n",
       "        });\n",
       "        }\n",
       "        </script>\n",
       "        "
      ]
     },
     "metadata": {},
     "output_type": "display_data"
    }
   ],
   "source": [
    "import numpy as np \n",
    "import pandas as pd \n",
    "import matplotlib.pyplot as plt \n",
    "import matplotlib.dates as mdates\n",
    "%matplotlib inline\n",
    "\n",
    "import datetime as dt\n",
    "import time\n",
    "import os\n",
    "from os import listdir\n",
    "from os.path import isfile, join\n",
    "\n",
    "import yfinance as yf\n",
    "\n",
    "import cufflinks as cf\n",
    "import plotly.express as px\n",
    "import plotly.graph_objects as go\n",
    "\n",
    "# make plotly work in jupyter notebook\n",
    "from plotly.offline import download_plotlyjs, init_notebook_mode, plot, iplot\n",
    "init_notebook_mode(connected=True)\n",
    "cf.go_offline()\n",
    "\n",
    "from plotly.subplots import make_subplots\n",
    "\n",
    "import warnings\n",
    "warnings.simplefilter(\"ignore\")"
   ]
  },
  {
   "cell_type": "code",
   "execution_count": 6,
   "id": "2d3fb2ba",
   "metadata": {},
   "outputs": [],
   "source": [
    "# Company data using y-finance\n",
    "\n",
    "def get_info_on_stock(ticker):\n",
    "    stock = yf.Ticker(ticker)\n",
    "    return stock"
   ]
  },
  {
   "cell_type": "code",
   "execution_count": 8,
   "id": "f0e55989",
   "metadata": {},
   "outputs": [
    {
     "name": "stdout",
     "output_type": "stream",
     "text": [
      "{'ebitdaMargins': None, 'profitMargins': None, 'grossMargins': None, 'operatingCashflow': None, 'revenueGrowth': None, 'operatingMargins': None, 'ebitda': None, 'targetLowPrice': None, 'recommendationKey': 'none', 'grossProfits': 4077000000, 'freeCashflow': None, 'targetMedianPrice': None, 'currentPrice': 1424.2, 'earningsGrowth': None, 'currentRatio': None, 'returnOnAssets': None, 'numberOfAnalystOpinions': None, 'targetMeanPrice': None, 'debtToEquity': None, 'returnOnEquity': None, 'targetHighPrice': None, 'totalCash': None, 'totalDebt': None, 'totalRevenue': None, 'totalCashPerShare': None, 'financialCurrency': 'USD', 'maxAge': 1, 'revenuePerShare': None, 'quickRatio': None, 'recommendationMean': None, 'exchange': 'BSE', 'shortName': 'INFOSYS LTD.', 'longName': 'Infosys Limited', 'exchangeTimezoneName': 'Asia/Kolkata', 'exchangeTimezoneShortName': 'IST', 'isEsgPopulated': False, 'gmtOffSetMilliseconds': '19800000', 'quoteType': 'EQUITY', 'symbol': 'INFY.BO', 'market': 'in_market', 'previousClose': 1477.15, 'regularMarketOpen': 1444, 'twoHundredDayAverage': 1129.573, 'trailingAnnualDividendYield': 0.00019632399, 'payoutRatio': None, 'volume24Hr': None, 'regularMarketDayHigh': 1445, 'navPrice': None, 'averageDailyVolume10Day': 241131, 'totalAssets': None, 'regularMarketPreviousClose': 1477.15, 'fiftyDayAverage': 1305.2714, 'trailingAnnualDividendRate': 0.29, 'open': 1444, 'toCurrency': None, 'averageVolume10days': 241131, 'expireDate': None, 'yield': None, 'algorithm': None, 'dividendRate': None, 'exDividendDate': None, 'beta': None, 'circulatingSupply': None, 'startDate': None, 'regularMarketDayLow': 1412.3, 'priceHint': 2, 'currency': 'INR', 'trailingPE': 37.95842, 'regularMarketVolume': 450915, 'lastMarket': None, 'maxSupply': None, 'openInterest': None, 'marketCap': 6043279032320, 'volumeAllCurrencies': None, 'strikePrice': None, 'averageVolume': 575013, 'priceToSalesTrailing12Months': None, 'dayLow': 1412.3, 'ask': 1429, 'ytdReturn': None, 'askSize': 0, 'volume': 450915, 'fiftyTwoWeekHigh': 1445, 'forwardPE': None, 'fromCurrency': None, 'fiveYearAvgDividendYield': None, 'fiftyTwoWeekLow': 511.1, 'bid': 1424.5, 'tradeable': False, 'dividendYield': None, 'bidSize': 0, 'dayHigh': 1445, 'regularMarketPrice': 1424.2, 'preMarketPrice': None, 'logo_url': '', 'trailingPegRatio': 1.6177}\n"
     ]
    }
   ],
   "source": [
    "infosys = get_info_on_stock('INFY.BO')     # Infosys data from Bombay Stock Exchange\n",
    "print(infosys.info)"
   ]
  },
  {
   "cell_type": "code",
   "execution_count": 10,
   "id": "422d08eb",
   "metadata": {},
   "outputs": [
    {
     "name": "stdout",
     "output_type": "stream",
     "text": [
      "Date\n",
      "1995-05-11    0.625815\n",
      "1995-05-19         NaN\n",
      "1995-06-01    0.658752\n",
      "1995-06-02    0.658752\n",
      "1995-06-05    0.658752\n",
      "Name: Close, dtype: float64\n"
     ]
    }
   ],
   "source": [
    "# Historic data all the way back to 1995!\n",
    "\n",
    "historic_data_infy = infosys.history(period=\"max\")[\"Close\"]\n",
    "print(historic_data_infy.head())"
   ]
  },
  {
   "cell_type": "code",
   "execution_count": 11,
   "id": "e4040612",
   "metadata": {},
   "outputs": [
    {
     "name": "stdout",
     "output_type": "stream",
     "text": [
      "                                              Holder    Shares Date Reported  \\\n",
      "0  Vanguard International Stock Index-Total Intl ...  60824139  Jul 31, 2020   \n",
      "1  Vanguard International Stock Index-Emerging Ma...  48765557  Jul 31, 2020   \n",
      "2             iShares Core MSCI Emerging Markets ETF  25565166  Jul 31, 2020   \n",
      "3                             iShares MSCI India ETF  20102474  Aug 31, 2020   \n",
      "4         Price (T.Rowe) Emerging Markets Stock Fund  12773421  Sep 30, 2020   \n",
      "5                  iShares MSCI Emerging Markets ETF  12491922  Aug 31, 2020   \n",
      "6         DFA Emerging Markets Core Equity Portfolio   9935138  Jul 31, 2020   \n",
      "7       Price (T.Rowe) Emerging Markets Equity Trust   7381218  Sep 30, 2020   \n",
      "8         Aberdeen Standard SICAV I-Indian Equity Fd   6688957  Aug 31, 2020   \n",
      "9  Advisors Inner Circle Fund III-GQG Partners Em...   6484889  Jul 31, 2020   \n",
      "\n",
      "   % Out        Value  \n",
      "0  1.43%  58771324308  \n",
      "1  1.14%  47119719451  \n",
      "2  0.60%  24702341647  \n",
      "3  0.47%  18665147109  \n",
      "4  0.30%  12875608368  \n",
      "5  0.29%  11598749577  \n",
      "6  0.23%   9599827092  \n",
      "7  0.17%   7440267744  \n",
      "8  0.16%   6210696574  \n",
      "9  0.15%   6266023996  \n"
     ]
    }
   ],
   "source": [
    "# Information related to stakeholders is present. \n",
    "\n",
    "print(infosys.major_holders)"
   ]
  },
  {
   "cell_type": "code",
   "execution_count": 12,
   "id": "0c4ef54d",
   "metadata": {},
   "outputs": [
    {
     "name": "stdout",
     "output_type": "stream",
     "text": [
      "                                           2020-03-31     2019-03-31  \\\n",
      "Research Development                             None           None   \n",
      "Effect Of Accounting Charges                     None           None   \n",
      "Income Before Tax                        3095000000.0   3003000000.0   \n",
      "Minority Interest                          55000000.0      9000000.0   \n",
      "Net Income                               2331000000.0   2199000000.0   \n",
      "Selling General Administrative           1351000000.0   1281000000.0   \n",
      "Gross Profit                             4077000000.0   3978000000.0   \n",
      "Ebit                                     2726000000.0   2697000000.0   \n",
      "Operating Income                         2726000000.0   2697000000.0   \n",
      "Other Operating Expenses                          NaN  13120000000.0   \n",
      "Interest Expense                          -24000000.0    -24000000.0   \n",
      "Extraordinary Items                              None           None   \n",
      "Non Recurring                                    None           None   \n",
      "Other Items                                      None           None   \n",
      "Income Tax Expense                        757000000.0    803000000.0   \n",
      "Total Revenue                           12780000000.0  11799000000.0   \n",
      "Total Operating Expenses                10054000000.0   9102000000.0   \n",
      "Cost Of Revenue                          8703000000.0   7821000000.0   \n",
      "Total Other Income Expense Net            369000000.0    306000000.0   \n",
      "Discontinued Operations                          None           None   \n",
      "Net Income From Continuing Ops           2338000000.0   2200000000.0   \n",
      "Net Income Applicable To Common Shares   2331000000.0   2199000000.0   \n",
      "\n",
      "                                           2018-03-31     2017-03-31  \n",
      "Research Development                             None           None  \n",
      "Effect Of Accounting Charges                     None           None  \n",
      "Income Before Tax                        3143000000.0   2974000000.0  \n",
      "Minority Interest                          10000000.0     10000000.0  \n",
      "Net Income                               2486000000.0   2140000000.0  \n",
      "Selling General Administrative           1151000000.0   1242000000.0  \n",
      "Gross Profit                             3810000000.0   3762000000.0  \n",
      "Ebit                                     2659000000.0   2520000000.0  \n",
      "Operating Income                         2659000000.0   2520000000.0  \n",
      "Other Operating Expenses                10020000000.0  10020000000.0  \n",
      "Interest Expense                          -24000000.0    -24000000.0  \n",
      "Extraordinary Items                              None           None  \n",
      "Non Recurring                                    None           None  \n",
      "Other Items                                      None           None  \n",
      "Income Tax Expense                        657000000.0    834000000.0  \n",
      "Total Revenue                           10939000000.0  10208000000.0  \n",
      "Total Operating Expenses                 8280000000.0   7688000000.0  \n",
      "Cost Of Revenue                          7129000000.0   6446000000.0  \n",
      "Total Other Income Expense Net            484000000.0    454000000.0  \n",
      "Discontinued Operations                          None           None  \n",
      "Net Income From Continuing Ops           2486000000.0   2140000000.0  \n",
      "Net Income Applicable To Common Shares   2486000000.0   2140000000.0  \n"
     ]
    }
   ],
   "source": [
    "# Information related to financials is present. \n",
    "\n",
    "print(infosys.financials)"
   ]
  },
  {
   "cell_type": "code",
   "execution_count": 13,
   "id": "8ad7e614",
   "metadata": {},
   "outputs": [],
   "source": [
    "# Lists to keep track of missing data\n",
    "stocks_not_downloaded = []\n",
    "missing_stocks = []\n",
    "\n",
    "# Function that returns a stock dataframe from a CSV\n",
    "\n",
    "def get_stock_df_from_csv(folder, ticker):\n",
    "    try:\n",
    "        df = pd.read_csv(folder + ticker + '.csv')\n",
    "    except FileNotFoundError:\n",
    "        print(\"File not found.\")\n",
    "    else:\n",
    "        return df\n",
    "    \n",
    "# Function that returns a named column data from a csv\n",
    "\n",
    "def get_column_from_csv(file, col_name):\n",
    "    try:\n",
    "        df = pd.read_csv(file)\n",
    "    except FileNotFoundError:\n",
    "        print(\"File not found.\")\n",
    "    else:\n",
    "        return df[col_name]\n",
    "    \n"
   ]
  },
  {
   "cell_type": "code",
   "execution_count": 17,
   "id": "895138e0",
   "metadata": {},
   "outputs": [
    {
     "name": "stdout",
     "output_type": "stream",
     "text": [
      "Get data for:  ABB.BO\n",
      "/Users/iamsagar/Desktop/Trading Project/data/historical_all/ABB_BO.csv  saved.\n",
      "Get data for:  AEGISLOG.BO\n",
      "/Users/iamsagar/Desktop/Trading Project/data/historical_all/AEGISLOG_BO.csv  saved.\n",
      "Get data for:  AMARAJABAT.BO\n",
      "/Users/iamsagar/Desktop/Trading Project/data/historical_all/AMARAJABAT_BO.csv  saved.\n",
      "Get data for:  AMBALALSA.BO\n",
      "/Users/iamsagar/Desktop/Trading Project/data/historical_all/AMBALALSA_BO.csv  saved.\n",
      "Get data for:  HDFC.BO\n",
      "/Users/iamsagar/Desktop/Trading Project/data/historical_all/HDFC_BO.csv  saved.\n",
      "Get data for:  ANDHRAPET.BO\n",
      "/Users/iamsagar/Desktop/Trading Project/data/historical_all/ANDHRAPET_BO.csv  saved.\n",
      "Get data for:  ANSALAPI.BO\n",
      "/Users/iamsagar/Desktop/Trading Project/data/historical_all/ANSALAPI_BO.csv  saved.\n",
      "Get data for:  UTIQUE.BO\n",
      "/Users/iamsagar/Desktop/Trading Project/data/historical_all/UTIQUE_BO.csv  saved.\n",
      "Get data for:  ARUNAHTEL.BO\n",
      "/Users/iamsagar/Desktop/Trading Project/data/historical_all/ARUNAHTEL_BO.csv  saved.\n",
      "Get data for:  BOMDYEING.BO\n",
      "/Users/iamsagar/Desktop/Trading Project/data/historical_all/BOMDYEING_BO.csv  saved.\n",
      "Get data for:  ASIANHOTNR.BO\n",
      "/Users/iamsagar/Desktop/Trading Project/data/historical_all/ASIANHOTNR_BO.csv  saved.\n",
      "Get data for:  ATUL.BO\n",
      "/Users/iamsagar/Desktop/Trading Project/data/historical_all/ATUL_BO.csv  saved.\n",
      "Get data for:  ATVPR.BO\n",
      "/Users/iamsagar/Desktop/Trading Project/data/historical_all/ATVPR_BO.csv  saved.\n",
      "Get data for:  BAJAJELEC.BO\n",
      "/Users/iamsagar/Desktop/Trading Project/data/historical_all/BAJAJELEC_BO.csv  saved.\n",
      "Get data for:  BAJAJHIND.BO\n",
      "/Users/iamsagar/Desktop/Trading Project/data/historical_all/BAJAJHIND_BO.csv  saved.\n",
      "Get data for:  FORCEMOT.BO\n",
      "/Users/iamsagar/Desktop/Trading Project/data/historical_all/FORCEMOT_BO.csv  saved.\n",
      "Get data for:  BAJFINANCE.BO\n",
      "/Users/iamsagar/Desktop/Trading Project/data/historical_all/BAJFINANCE_BO.csv  saved.\n",
      "Get data for:  BALRAMCHIN*.BO\n",
      "- BALRAMCHIN*.BO: No data found, symbol may be delisted\n",
      "/Users/iamsagar/Desktop/Trading Project/data/historical_all/BALRAMCHIN*_BO.csv  saved.\n",
      "Get data for:  BANCOINDIA.BO\n",
      "/Users/iamsagar/Desktop/Trading Project/data/historical_all/BANCOINDIA_BO.csv  saved.\n",
      "Get data for:  CENTURYTEX.BO\n",
      "/Users/iamsagar/Desktop/Trading Project/data/historical_all/CENTURYTEX_BO.csv  saved.\n",
      "Finished!\n"
     ]
    }
   ],
   "source": [
    "# Download historic data of stocks using y-finance\n",
    "\n",
    "# Step 1: Get the list of stocks to be downloaded\n",
    "path = '/Users/iamsagar/Desktop/Trading Project/data/instruments/BSE_stocks.csv'\n",
    "tickers = get_column_from_csv(path, 'Ticker')\n",
    "\n",
    "# Step 2: Save stock data to csv\n",
    "def save_to_csv_from_yahoo(folder, ticker):\n",
    "    stock = yf.Ticker(ticker)\n",
    "    try:\n",
    "        print(\"Get data for: \", ticker)\n",
    "        df = stock.history(period=\"5y\")\n",
    "        time.sleep(5)\n",
    "        if df.empty:\n",
    "            stocks_not_downloaded.append(ticker)\n",
    "        file = folder + ticker.replace(\".\", \"_\") + \".csv\"\n",
    "        print(file, \" saved.\")\n",
    "        df.to_csv(file)\n",
    "    except Exception as e:\n",
    "        stocks_not_downloaded.append(ticker)\n",
    "        print(\"Couldn't download data for: \", ticker)\n",
    "        \n",
    "# Step 3: Pull past 5 years of data for first 20 stocks\n",
    "folder = '/Users/iamsagar/Desktop/Trading Project/data/historical_all/'\n",
    "for x in range(20):\n",
    "    save_to_csv_from_yahoo(folder, tickers[x])\n",
    "print(\"Finished!\")"
   ]
  },
  {
   "cell_type": "code",
   "execution_count": null,
   "id": "73a97090",
   "metadata": {},
   "outputs": [],
   "source": []
  }
 ],
 "metadata": {
  "kernelspec": {
   "display_name": "Python 3 (ipykernel)",
   "language": "python",
   "name": "python3"
  },
  "language_info": {
   "codemirror_mode": {
    "name": "ipython",
    "version": 3
   },
   "file_extension": ".py",
   "mimetype": "text/x-python",
   "name": "python",
   "nbconvert_exporter": "python",
   "pygments_lexer": "ipython3",
   "version": "3.8.9"
  }
 },
 "nbformat": 4,
 "nbformat_minor": 5
}
